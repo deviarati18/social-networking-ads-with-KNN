{
 "cells": [
  {
   "cell_type": "code",
   "execution_count": 1,
   "id": "096a3102",
   "metadata": {},
   "outputs": [],
   "source": [
    "import numpy as np   ## importing all the libraries.\n",
    "import pandas as pd\n",
    "import matplotlib.pyplot as plt\n",
    "import seaborn as sns\n",
    "import math\n",
    "\n",
    "from scipy.stats import mode"
   ]
  },
  {
   "cell_type": "code",
   "execution_count": 2,
   "id": "ffbce93e",
   "metadata": {},
   "outputs": [
    {
     "data": {
      "text/html": [
       "<div>\n",
       "<style scoped>\n",
       "    .dataframe tbody tr th:only-of-type {\n",
       "        vertical-align: middle;\n",
       "    }\n",
       "\n",
       "    .dataframe tbody tr th {\n",
       "        vertical-align: top;\n",
       "    }\n",
       "\n",
       "    .dataframe thead th {\n",
       "        text-align: right;\n",
       "    }\n",
       "</style>\n",
       "<table border=\"1\" class=\"dataframe\">\n",
       "  <thead>\n",
       "    <tr style=\"text-align: right;\">\n",
       "      <th></th>\n",
       "      <th>UserID</th>\n",
       "      <th>Gender</th>\n",
       "      <th>Age</th>\n",
       "      <th>EstimatedSalary</th>\n",
       "      <th>Purchased</th>\n",
       "    </tr>\n",
       "  </thead>\n",
       "  <tbody>\n",
       "    <tr>\n",
       "      <th>0</th>\n",
       "      <td>15624510</td>\n",
       "      <td>Male</td>\n",
       "      <td>19</td>\n",
       "      <td>19000</td>\n",
       "      <td>Not Purchased</td>\n",
       "    </tr>\n",
       "    <tr>\n",
       "      <th>1</th>\n",
       "      <td>15810944</td>\n",
       "      <td>Male</td>\n",
       "      <td>35</td>\n",
       "      <td>20000</td>\n",
       "      <td>Not Purchased</td>\n",
       "    </tr>\n",
       "    <tr>\n",
       "      <th>2</th>\n",
       "      <td>15668575</td>\n",
       "      <td>Female</td>\n",
       "      <td>26</td>\n",
       "      <td>43000</td>\n",
       "      <td>Not Purchased</td>\n",
       "    </tr>\n",
       "    <tr>\n",
       "      <th>3</th>\n",
       "      <td>15603246</td>\n",
       "      <td>Female</td>\n",
       "      <td>27</td>\n",
       "      <td>57000</td>\n",
       "      <td>Not Purchased</td>\n",
       "    </tr>\n",
       "    <tr>\n",
       "      <th>4</th>\n",
       "      <td>15804002</td>\n",
       "      <td>Male</td>\n",
       "      <td>19</td>\n",
       "      <td>76000</td>\n",
       "      <td>Not Purchased</td>\n",
       "    </tr>\n",
       "  </tbody>\n",
       "</table>\n",
       "</div>"
      ],
      "text/plain": [
       "     UserID  Gender  Age  EstimatedSalary      Purchased\n",
       "0  15624510    Male   19            19000  Not Purchased\n",
       "1  15810944    Male   35            20000  Not Purchased\n",
       "2  15668575  Female   26            43000  Not Purchased\n",
       "3  15603246  Female   27            57000  Not Purchased\n",
       "4  15804002    Male   19            76000  Not Purchased"
      ]
     },
     "execution_count": 2,
     "metadata": {},
     "output_type": "execute_result"
    }
   ],
   "source": [
    "dataset= pd.read_csv('E:/studymaterial/hareeshsir/New folder/knn/Social_Network_Ads.csv') # uploading the dataframe to the'dataset'\n",
    "dataset.head() # returns the headings of the table along with first 5 entries"
   ]
  },
  {
   "cell_type": "code",
   "execution_count": 3,
   "id": "ac8ecac3",
   "metadata": {},
   "outputs": [
    {
     "data": {
      "text/html": [
       "<div>\n",
       "<style scoped>\n",
       "    .dataframe tbody tr th:only-of-type {\n",
       "        vertical-align: middle;\n",
       "    }\n",
       "\n",
       "    .dataframe tbody tr th {\n",
       "        vertical-align: top;\n",
       "    }\n",
       "\n",
       "    .dataframe thead th {\n",
       "        text-align: right;\n",
       "    }\n",
       "</style>\n",
       "<table border=\"1\" class=\"dataframe\">\n",
       "  <thead>\n",
       "    <tr style=\"text-align: right;\">\n",
       "      <th></th>\n",
       "      <th>Age</th>\n",
       "      <th>EstimatedSalary</th>\n",
       "      <th>Purchased</th>\n",
       "    </tr>\n",
       "  </thead>\n",
       "  <tbody>\n",
       "    <tr>\n",
       "      <th>0</th>\n",
       "      <td>19</td>\n",
       "      <td>19000</td>\n",
       "      <td>Not Purchased</td>\n",
       "    </tr>\n",
       "    <tr>\n",
       "      <th>1</th>\n",
       "      <td>35</td>\n",
       "      <td>20000</td>\n",
       "      <td>Not Purchased</td>\n",
       "    </tr>\n",
       "    <tr>\n",
       "      <th>2</th>\n",
       "      <td>26</td>\n",
       "      <td>43000</td>\n",
       "      <td>Not Purchased</td>\n",
       "    </tr>\n",
       "    <tr>\n",
       "      <th>3</th>\n",
       "      <td>27</td>\n",
       "      <td>57000</td>\n",
       "      <td>Not Purchased</td>\n",
       "    </tr>\n",
       "    <tr>\n",
       "      <th>4</th>\n",
       "      <td>19</td>\n",
       "      <td>76000</td>\n",
       "      <td>Not Purchased</td>\n",
       "    </tr>\n",
       "  </tbody>\n",
       "</table>\n",
       "</div>"
      ],
      "text/plain": [
       "   Age  EstimatedSalary      Purchased\n",
       "0   19            19000  Not Purchased\n",
       "1   35            20000  Not Purchased\n",
       "2   26            43000  Not Purchased\n",
       "3   27            57000  Not Purchased\n",
       "4   19            76000  Not Purchased"
      ]
     },
     "execution_count": 3,
     "metadata": {},
     "output_type": "execute_result"
    }
   ],
   "source": [
    "dataset=dataset.drop('UserID',axis=1) # removes the column with heading'userid'\n",
    "dataset=dataset.drop('Gender',axis=1) # removes the column with heading 'gender'\n",
    "dataset.head() # returns the updates headings of the tables"
   ]
  },
  {
   "cell_type": "code",
   "execution_count": 4,
   "id": "fee7b74d",
   "metadata": {},
   "outputs": [
    {
     "data": {
      "text/plain": [
       "0      Not Purchased\n",
       "1      Not Purchased\n",
       "2      Not Purchased\n",
       "3      Not Purchased\n",
       "4      Not Purchased\n",
       "           ...      \n",
       "395        Purchased\n",
       "396        Purchased\n",
       "397        Purchased\n",
       "398    Not Purchased\n",
       "399        Purchased\n",
       "Name: Purchased, Length: 400, dtype: object"
      ]
     },
     "execution_count": 4,
     "metadata": {},
     "output_type": "execute_result"
    }
   ],
   "source": [
    "X=dataset.drop('Purchased',axis=1) #from the updated dataframe 'purchased' column is removed and saved in X\n",
    "Y= dataset['Purchased'] # column purchased is saved in Y\n",
    "X\n",
    "Y"
   ]
  },
  {
   "cell_type": "code",
   "execution_count": 5,
   "id": "ec2f69a8",
   "metadata": {},
   "outputs": [
    {
     "data": {
      "text/plain": [
       "<AxesSubplot:xlabel='Age', ylabel='EstimatedSalary'>"
      ]
     },
     "execution_count": 5,
     "metadata": {},
     "output_type": "execute_result"
    },
    {
     "data": {
      "image/png": "[encoded data removed]",
      "text/plain": [
       "<Figure size 432x288 with 1 Axes>"
      ]
     },
     "metadata": {
      "needs_background": "light"
     },
     "output_type": "display_data"
    }
   ],
   "source": [
    "color = ['green' if x== 'Purchased' else 'red' for x in dataset['Purchased'] ]\n",
    "sns.scatterplot(x=dataset['Age'],y=dataset['EstimatedSalary'], c = color)  \n",
    "##scatter plots purchased and not purchased points with x axis as age and y axis as estimated salary"
   ]
  },
  {
   "cell_type": "code",
   "execution_count": 6,
   "id": "2109a90f",
   "metadata": {},
   "outputs": [
    {
     "name": "stdout",
     "output_type": "stream",
     "text": [
      "Total Number of rows in train: 320\n",
      "Total Number of rows in test 80\n"
     ]
    }
   ],
   "source": [
    "### Splitting of data\n",
    "n_train = math.floor(0.8 * X.shape[0])\n",
    "###0.8 times the total length of X is taken for the training data\n",
    "n_test = math.ceil(0.2 * X.shape[0])## 0.2times for the test data\n",
    "X_train = X[:n_train] # splits the X for training data\n",
    "Y_train = Y[:n_train] ## splits the Y data for training data\n",
    "X_test = X[n_train:] ## remianing X is taken as test\n",
    "Y_test = Y[n_train:]## remaining Y is taken as test\n",
    "print(\"Total Number of rows in train:\",X_train.shape[0])## returns the no of training data\n",
    "print(\"Total Number of rows in test\",X_test.shape[0])## returns the number of test data"
   ]
  },
  {
   "cell_type": "code",
   "execution_count": 7,
   "id": "836582a4",
   "metadata": {},
   "outputs": [],
   "source": [
    "def euclidean(pt1,pt2):  ### defining the function for finding the eucliadean distance between point pt1 and pt2\n",
    "    distance=np.sqrt(np.sum(pt1-pt2)**2) \n",
    "    return distance"
   ]
  },
  {
   "cell_type": "code",
   "execution_count": 8,
   "id": "2c59d6ce",
   "metadata": {},
   "outputs": [],
   "source": [
    "def KNN(X_train,X_test,Y,k_value): ## defining the function to find the KNN \n",
    "    \n",
    "    y_hat=[]  ## list to store the values of the predictions\n",
    "    \n",
    "    arr = X_test.to_numpy() ## converts the X_test data to an array\n",
    "    \n",
    "    for test_pt in arr : ### loops through each point in the test data\n",
    "        \n",
    "        dist=[]  ## array to store the euclidean distances of each point\n",
    "            \n",
    "        \n",
    "    \n",
    "        for j in range(len(X_train)): ## loops thrpugh the entire length of the train data\n",
    "            \n",
    "            \n",
    "            distances = euclidean(np.array(X_train.iloc[j]),test_pt) ## calling the euclidean distance function \n",
    "            dist.append(distances) ## appends the euclidean distance values\n",
    "        dist=np.array(dist) \n",
    "        \n",
    "        \n",
    "        distance=[]\n",
    "        distance = np.argsort(dist)[:k_value] ###Sorting the array keeping the first K datapoints\n",
    "        \n",
    "        labels=Y[distance]\n",
    "        count=mode(labels).mode[0] ##finds the most repeated values\n",
    "        y_hat.append(count)\n",
    "        \n",
    "    return y_hat"
   ]
  },
  {
   "cell_type": "code",
   "execution_count": 9,
   "id": "a49dba3f",
   "metadata": {},
   "outputs": [
    {
     "data": {
      "image/png": "[encoded data removed]",
      "text/plain": [
       "<Figure size 432x288 with 1 Axes>"
      ]
     },
     "metadata": {
      "needs_background": "light"
     },
     "output_type": "display_data"
    }
   ],
   "source": [
    "y_hat_test= KNN(X_train,X_test,Y,k_value=5)  ## implementing the function for k value=5\n",
    "\n",
    "for i in range (len(y_hat_test)):\n",
    "    if (y_hat_test[i]=='Purchased'):\n",
    "        plt.scatter(X_test.iloc[i]['Age'],X_test.iloc[i]['EstimatedSalary'], color='blue',marker=\"+\")  ##plotting the 'purchased' prediction\n",
    "        \n",
    "    else :\n",
    "               \n",
    "        \n",
    "        plt.scatter(X_test.iloc[i]['Age'],X_test.iloc[i]['EstimatedSalary'], color='orange',marker=\"x\")# plotting not purchased prediction\n",
    "        \n",
    "plt.xlabel('Age') ## x axis label\n",
    "plt.ylabel('Estmated Salary') # yaxis label\n",
    "plt.title('KNN RESULTS') # plot title\n",
    "plt.show() ## displays the figure\n"
   ]
  },
  {
   "cell_type": "markdown",
   "id": "977c1431",
   "metadata": {},
   "source": [
    "KNN ALGORITHM USING SKLEARN"
   ]
  },
  {
   "cell_type": "code",
   "execution_count": 10,
   "id": "cc465995",
   "metadata": {},
   "outputs": [],
   "source": [
    "import numpy as np\n",
    "import pandas as pd\n",
    "from sklearn.model_selection import train_test_split\n",
    "from sklearn.neighbors import KNeighborsClassifier\n",
    "import matplotlib.pyplot as plt \n",
    "import seaborn as sns\n",
    "\n",
    "from sklearn.metrics import confusion_matrix"
   ]
  },
  {
   "cell_type": "code",
   "execution_count": 11,
   "id": "51fb5671",
   "metadata": {},
   "outputs": [
    {
     "data": {
      "text/html": [
       "<div>\n",
       "<style scoped>\n",
       "    .dataframe tbody tr th:only-of-type {\n",
       "        vertical-align: middle;\n",
       "    }\n",
       "\n",
       "    .dataframe tbody tr th {\n",
       "        vertical-align: top;\n",
       "    }\n",
       "\n",
       "    .dataframe thead th {\n",
       "        text-align: right;\n",
       "    }\n",
       "</style>\n",
       "<table border=\"1\" class=\"dataframe\">\n",
       "  <thead>\n",
       "    <tr style=\"text-align: right;\">\n",
       "      <th></th>\n",
       "      <th>UserID</th>\n",
       "      <th>Gender</th>\n",
       "      <th>Age</th>\n",
       "      <th>EstimatedSalary</th>\n",
       "      <th>Purchased</th>\n",
       "    </tr>\n",
       "  </thead>\n",
       "  <tbody>\n",
       "    <tr>\n",
       "      <th>0</th>\n",
       "      <td>15624510</td>\n",
       "      <td>Male</td>\n",
       "      <td>19</td>\n",
       "      <td>19000</td>\n",
       "      <td>Not Purchased</td>\n",
       "    </tr>\n",
       "    <tr>\n",
       "      <th>1</th>\n",
       "      <td>15810944</td>\n",
       "      <td>Male</td>\n",
       "      <td>35</td>\n",
       "      <td>20000</td>\n",
       "      <td>Not Purchased</td>\n",
       "    </tr>\n",
       "    <tr>\n",
       "      <th>2</th>\n",
       "      <td>15668575</td>\n",
       "      <td>Female</td>\n",
       "      <td>26</td>\n",
       "      <td>43000</td>\n",
       "      <td>Not Purchased</td>\n",
       "    </tr>\n",
       "    <tr>\n",
       "      <th>3</th>\n",
       "      <td>15603246</td>\n",
       "      <td>Female</td>\n",
       "      <td>27</td>\n",
       "      <td>57000</td>\n",
       "      <td>Not Purchased</td>\n",
       "    </tr>\n",
       "    <tr>\n",
       "      <th>4</th>\n",
       "      <td>15804002</td>\n",
       "      <td>Male</td>\n",
       "      <td>19</td>\n",
       "      <td>76000</td>\n",
       "      <td>Not Purchased</td>\n",
       "    </tr>\n",
       "  </tbody>\n",
       "</table>\n",
       "</div>"
      ],
      "text/plain": [
       "     UserID  Gender  Age  EstimatedSalary      Purchased\n",
       "0  15624510    Male   19            19000  Not Purchased\n",
       "1  15810944    Male   35            20000  Not Purchased\n",
       "2  15668575  Female   26            43000  Not Purchased\n",
       "3  15603246  Female   27            57000  Not Purchased\n",
       "4  15804002    Male   19            76000  Not Purchased"
      ]
     },
     "execution_count": 11,
     "metadata": {},
     "output_type": "execute_result"
    }
   ],
   "source": [
    "dataset= pd.read_csv('E:/studymaterial/hareeshsir/New folder/knn/Social_Network_Ads.csv')\n",
    "dataset.head()"
   ]
  },
  {
   "cell_type": "code",
   "execution_count": 12,
   "id": "b384e88b",
   "metadata": {},
   "outputs": [
    {
     "data": {
      "text/html": [
       "<div>\n",
       "<style scoped>\n",
       "    .dataframe tbody tr th:only-of-type {\n",
       "        vertical-align: middle;\n",
       "    }\n",
       "\n",
       "    .dataframe tbody tr th {\n",
       "        vertical-align: top;\n",
       "    }\n",
       "\n",
       "    .dataframe thead th {\n",
       "        text-align: right;\n",
       "    }\n",
       "</style>\n",
       "<table border=\"1\" class=\"dataframe\">\n",
       "  <thead>\n",
       "    <tr style=\"text-align: right;\">\n",
       "      <th></th>\n",
       "      <th>Age</th>\n",
       "      <th>EstimatedSalary</th>\n",
       "      <th>Purchased</th>\n",
       "    </tr>\n",
       "  </thead>\n",
       "  <tbody>\n",
       "    <tr>\n",
       "      <th>0</th>\n",
       "      <td>19</td>\n",
       "      <td>19000</td>\n",
       "      <td>Not Purchased</td>\n",
       "    </tr>\n",
       "    <tr>\n",
       "      <th>1</th>\n",
       "      <td>35</td>\n",
       "      <td>20000</td>\n",
       "      <td>Not Purchased</td>\n",
       "    </tr>\n",
       "    <tr>\n",
       "      <th>2</th>\n",
       "      <td>26</td>\n",
       "      <td>43000</td>\n",
       "      <td>Not Purchased</td>\n",
       "    </tr>\n",
       "    <tr>\n",
       "      <th>3</th>\n",
       "      <td>27</td>\n",
       "      <td>57000</td>\n",
       "      <td>Not Purchased</td>\n",
       "    </tr>\n",
       "    <tr>\n",
       "      <th>4</th>\n",
       "      <td>19</td>\n",
       "      <td>76000</td>\n",
       "      <td>Not Purchased</td>\n",
       "    </tr>\n",
       "  </tbody>\n",
       "</table>\n",
       "</div>"
      ],
      "text/plain": [
       "   Age  EstimatedSalary      Purchased\n",
       "0   19            19000  Not Purchased\n",
       "1   35            20000  Not Purchased\n",
       "2   26            43000  Not Purchased\n",
       "3   27            57000  Not Purchased\n",
       "4   19            76000  Not Purchased"
      ]
     },
     "execution_count": 12,
     "metadata": {},
     "output_type": "execute_result"
    }
   ],
   "source": [
    "dataset=dataset.drop('UserID',axis=1)\n",
    "dataset=dataset.drop('Gender',axis=1)\n",
    "dataset.head()"
   ]
  },
  {
   "cell_type": "code",
   "execution_count": 13,
   "id": "48517e66",
   "metadata": {},
   "outputs": [
    {
     "data": {
      "text/plain": [
       "0      Not Purchased\n",
       "1      Not Purchased\n",
       "2      Not Purchased\n",
       "3      Not Purchased\n",
       "4      Not Purchased\n",
       "           ...      \n",
       "395        Purchased\n",
       "396        Purchased\n",
       "397        Purchased\n",
       "398    Not Purchased\n",
       "399        Purchased\n",
       "Name: Purchased, Length: 400, dtype: object"
      ]
     },
     "execution_count": 13,
     "metadata": {},
     "output_type": "execute_result"
    }
   ],
   "source": [
    "X=dataset.drop('Purchased',axis=1)\n",
    "Y= dataset['Purchased']\n",
    "X\n",
    "Y"
   ]
  },
  {
   "cell_type": "code",
   "execution_count": 14,
   "id": "8381081b",
   "metadata": {},
   "outputs": [
    {
     "data": {
      "text/plain": [
       "<AxesSubplot:xlabel='Age', ylabel='EstimatedSalary'>"
      ]
     },
     "execution_count": 14,
     "metadata": {},
     "output_type": "execute_result"
    },
    {
     "data": {
      "image/png": "[encoded data removed]",
      "text/plain": [
       "<Figure size 432x288 with 1 Axes>"
      ]
     },
     "metadata": {
      "needs_background": "light"
     },
     "output_type": "display_data"
    }
   ],
   "source": [
    "color = ['green' if x== 'Purchased' else 'red' for x in dataset['Purchased'] ]\n",
    "sns.scatterplot(x=dataset['Age'],y=dataset['EstimatedSalary'], c = color)"
   ]
  },
  {
   "cell_type": "code",
   "execution_count": 15,
   "id": "f26fe872",
   "metadata": {},
   "outputs": [],
   "source": [
    "## splits the data into train and test data using the builtin function with test data size as 20% of total data size\n",
    "\n",
    "X_train, X_test, Y_train, Y_test = train_test_split(X, Y, test_size = 0.2, random_state = 0)  "
   ]
  },
  {
   "cell_type": "code",
   "execution_count": 16,
   "id": "12fc60eb",
   "metadata": {},
   "outputs": [],
   "source": [
    "knn = KNeighborsClassifier(n_neighbors=5) ##calling the KNN function for k value=5"
   ]
  },
  {
   "cell_type": "code",
   "execution_count": 17,
   "id": "ad7a7927",
   "metadata": {},
   "outputs": [
    {
     "data": {
      "text/plain": [
       "KNeighborsClassifier()"
      ]
     },
     "execution_count": 17,
     "metadata": {},
     "output_type": "execute_result"
    }
   ],
   "source": [
    "knn.fit(X_train,Y_train) ##it learns or stores the dataset in memory"
   ]
  },
  {
   "cell_type": "code",
   "execution_count": 18,
   "id": "4dfd87f0",
   "metadata": {},
   "outputs": [
    {
     "data": {
      "text/plain": [
       "0.8375"
      ]
     },
     "execution_count": 18,
     "metadata": {},
     "output_type": "execute_result"
    }
   ],
   "source": [
    "knn.score(X_test,Y_test)  ## calculates the accuracy"
   ]
  },
  {
   "cell_type": "code",
   "execution_count": 19,
   "id": "34f86ede",
   "metadata": {},
   "outputs": [
    {
     "data": {
      "text/plain": [
       "array([[52,  6],\n",
       "       [ 7, 15]], dtype=int64)"
      ]
     },
     "execution_count": 19,
     "metadata": {},
     "output_type": "execute_result"
    }
   ],
   "source": [
    "y_pred = knn.predict(X_test) \n",
    "cm=confusion_matrix(Y_test,y_pred)\n",
    "cm"
   ]
  },
  {
   "cell_type": "code",
   "execution_count": 20,
   "id": "52856d95",
   "metadata": {},
   "outputs": [
    {
     "data": {
      "image/png": "[encoded data removed]",
      "text/plain": [
       "<Figure size 504x360 with 2 Axes>"
      ]
     },
     "metadata": {
      "needs_background": "light"
     },
     "output_type": "display_data"
    }
   ],
   "source": [
    "#cm vizualization\n",
    "\n",
    "import seaborn as sns \n",
    "f, ax =plt.subplots(figsize = (7,5))\n",
    "\n",
    "sns.heatmap(cm,annot = True)\n",
    "plt.xlabel(\"y_pred\")\n",
    "plt.ylabel(\"Y_test\")\n",
    "plt.show()"
   ]
  },
  {
   "cell_type": "code",
   "execution_count": null,
   "id": "a7ea1b12",
   "metadata": {},
   "outputs": [],
   "source": []
  }
 ],
 "metadata": {
  "kernelspec": {
   "display_name": "Python 3 (ipykernel)",
   "language": "python",
   "name": "python3"
  },
  "language_info": {
   "codemirror_mode": {
    "name": "ipython",
    "version": 3
   },
   "file_extension": ".py",
   "mimetype": "text/x-python",
   "name": "python",
   "nbconvert_exporter": "python",
   "pygments_lexer": "ipython3",
   "version": "3.9.12"
  }
 },
 "nbformat": 4,
 "nbformat_minor": 5
}
